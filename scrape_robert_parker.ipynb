{
 "cells": [
  {
   "cell_type": "markdown",
   "metadata": {},
   "source": [
    "# \"Gather\" Data Containing Robert Parker Critic Scores"
   ]
  },
  {
   "cell_type": "code",
   "execution_count": 97,
   "metadata": {},
   "outputs": [],
   "source": [
    "from selenium import webdriver\n",
    "from selenium.webdriver.common.by import By\n",
    "from selenium.webdriver.support.ui import WebDriverWait\n",
    "from selenium.webdriver.support import expected_conditions as EC\n",
    "import pandas as pd\n",
    "import time"
   ]
  },
  {
   "cell_type": "code",
   "execution_count": 98,
   "metadata": {},
   "outputs": [],
   "source": [
    "df = pd.read_csv('data/all_jera_info.csv')\n",
    "df['producer'] = (df['producer_title'].fillna('') + ' ' + df['producer_name']).str.strip()\n",
    "producer_list = df['producer'].unique().tolist()"
   ]
  },
  {
   "cell_type": "code",
   "execution_count": 99,
   "metadata": {},
   "outputs": [],
   "source": [
    "def reestablish_connection(url):\n",
    "    \n",
    "    # Setup driver\n",
    "    driver = webdriver.Chrome()\n",
    "    driver.implicitly_wait(10)\n",
    "    driver.get(url)\n",
    "    try:\n",
    "        WebDriverWait(driver, 12).until(\n",
    "        EC.element_to_be_clickable((By.CSS_SELECTOR, \"#didomi-notice-agree-button\"))\n",
    "    ).click()\n",
    "    except:\n",
    "        print(\"No cookie popup\")\n",
    "\n",
    "    # \"callum@winefi.co\" \"Testing!12\" -- If large screen (chrome)\n",
    "    wait = WebDriverWait(driver, 10)\n",
    "    login_button = wait.until(EC.element_to_be_clickable((By.XPATH, \"//div[@class='btn btn-default'][span='LOGIN']\")))\n",
    "    login_button.click()\n",
    "\n",
    "    email_input = driver.find_element(By.ID, \"user_login\")\n",
    "    email_input.send_keys(\"callum@winefi.co\")\n",
    "    time.sleep(3)\n",
    "\n",
    "    password_input = driver.find_element(By.ID, \"user_pass\")\n",
    "    password_input.send_keys(\"Testing!12\")\n",
    "    time.sleep(1)\n",
    "\n",
    "    submit_button = driver.find_element(By.ID, \"submit-login\")\n",
    "    submit_button.click()\n",
    "\n",
    "    return driver"
   ]
  },
  {
   "cell_type": "code",
   "execution_count": 101,
   "metadata": {},
   "outputs": [],
   "source": [
    "\"\"\"\n",
    "This function takes a producer name and returns only the first 3 words unless the first three are \n",
    "'Domaine de la', in which case it returns the first 4 words. \n",
    "\n",
    "It is also the function used to clean up unique cases where Robert Parker website had a variation in name. \n",
    "\"\"\"\n",
    "def producer_filter(producer):\n",
    "    words = producer.split()\n",
    "    if producer == 'Domaine Anne-Francoise Gros':\n",
    "        return 'Domaine Anne Gros'\n",
    "    if producer == 'Jean-Claude Ramonet':\n",
    "        return 'Domaine Ramonet'\n",
    "    if producer == 'Domaine Francois Raveneau':\n",
    "        return 'Domaine Raveneau'\n",
    "    if producer == 'Domaine Dauvissat-Camus':\n",
    "        return 'Vincent Dauvissat'\n",
    "    if producer == 'Domaine Bournet-Lapostolle':\n",
    "        return 'Lapostolle'\n",
    "    if producer == 'Chateau Rayas Fonsalette':\n",
    "        return 'Fonsalette'\n",
    "    if producer == 'Domaine Francois Lamarche' or producer == 'Francois Lamarche':\n",
    "        return \"Domaine Lamarche\"\n",
    "    if words[0] == 'Chateau':\n",
    "        return' '.join(words[1:]).strip()\n",
    "    if words[0] == 'Domaine':\n",
    "        return' '.join(words[1:]).strip()\n",
    "    elif producer == 'Comm. G.B. Burlotto':\n",
    "        return 'Comm. '\n",
    "    elif producer == \"Dow's\":\n",
    "        return \"Dow\"\n",
    "    elif producer == \"Taylor's\":\n",
    "        return \"Taylor\"\n",
    "    elif producer == 'Moret Nominee':\n",
    "        return \"David Moret\"\n",
    "    elif producer == 'Dom Perignon':\n",
    "        return \"Moet & Chandon\"\n",
    "    elif producer == 'R. Lopez de Heredia':\n",
    "        return 'Lopez de Heredia'\n",
    "    elif producer == 'The Sadie Family':\n",
    "        return 'Sadie Family'\n",
    "    elif producer == 'R. Lopez de Heredia':\n",
    "        return 'Lopez de Heredia'\n",
    "    elif producer ==  'Oratoire Chanson':\n",
    "        return 'Chanson Père & Fils'\n",
    "    elif len(producer.split()) > 3:\n",
    "        words = producer.split()\n",
    "        first_two_words = ' '.join(words[:2])\n",
    "        if first_two_words.lower() == 'domaine de':\n",
    "            if ' '.join(words[:2]).lower() == 'domaine de la':\n",
    "                return ' '.join(words[:4])\n",
    "            return ' '.join(words[:3])\n",
    "        else:\n",
    "            return first_two_words\n",
    "    else:\n",
    "        return producer"
   ]
  },
  {
   "cell_type": "code",
   "execution_count": 102,
   "metadata": {},
   "outputs": [],
   "source": [
    "# BEST ONE 3/5/21\n",
    "def search_and_extract(driver, producer_name_input, searchnum=6):\n",
    "        \n",
    "    producer_name = producer_filter(producer_name_input)\n",
    "\n",
    "    search_input = driver.find_element(By.ID, f\"autocomplete-{searchnum}-input\")\n",
    "    time.sleep(0.5)\n",
    "    search_input.send_keys(producer_name)\n",
    "    time.sleep(2.1)\n",
    "\n",
    "    WebDriverWait(driver, 10).until(\n",
    "        EC.presence_of_element_located((By.ID, f\"autocomplete-{searchnum}-0-item-0\"))\n",
    "    ).click()\n",
    "\n",
    "    wine_data = []\n",
    "    \n",
    "    while True:\n",
    "        WebDriverWait(driver, 10).until(\n",
    "            EC.presence_of_all_elements_located((By.CSS_SELECTOR, \"div.wine-check\"))\n",
    "        )\n",
    "\n",
    "        wines = driver.find_elements(By.CSS_SELECTOR, \"div.wine-check\")\n",
    "\n",
    "        for wine in wines:\n",
    "            description = wine.find_element(By.CSS_SELECTOR, \"label\").get_attribute('title')\n",
    "            full_name_element = wine.find_element(By.CSS_SELECTOR, \"a.no-style.font-weight-bold\")\n",
    "            full_name = full_name_element.text\n",
    "            product_name = wine.find_element(By.CSS_SELECTOR, \"input\").get_attribute('name')\n",
    "            score_element = wine.find_element(By.XPATH, \"//div[@class='wine-ratings']//span[contains(text(), 'RP')]\")\n",
    "            critic_score = score_element.text\n",
    "            wine_data.append({\n",
    "                \"producer_name\": producer_name_input,\n",
    "                \"product_name\": product_name,\n",
    "                \"description\": description,\n",
    "                \"full_name\": full_name,\n",
    "                \"critic_score\": critic_score\n",
    "            })\n",
    "\n",
    "        try:\n",
    "            next_button = driver.find_element(By.XPATH, \"//span[contains(@class,'sc-jtXEFf') and contains(text(),'>')]\")\n",
    "            next_button.click()\n",
    "            time.sleep(1.5)\n",
    "        except:\n",
    "            break\n",
    "\n",
    "    return wine_data\n"
   ]
  },
  {
   "cell_type": "code",
   "execution_count": 103,
   "metadata": {},
   "outputs": [
    {
     "name": "stdout",
     "output_type": "stream",
     "text": [
      "Failed producers:0\n",
      "Successful wines scrapes:350\n",
      "NaNs in scrapeproducer_name    0\n",
      "product_name     0\n",
      "description      0\n",
      "full_name        0\n",
      "critic_score     0\n",
      "dtype: int64\n"
     ]
    }
   ],
   "source": [
    "# Scrape by producer name list function \n",
    "def loop_search_extract_producers(url, producer_list, csv_path = 'output.csv', snum=6):\n",
    " \n",
    "    output_list = []\n",
    "    skipped_producer_list = []\n",
    "    driver = reestablish_connection(url)\n",
    "\n",
    "    for producer in producer_list:\n",
    "        try:\n",
    "            extracted_data = search_and_extract(driver, producer, snum)\n",
    "            output_list.extend(extracted_data)\n",
    "            snum += 1\n",
    "        except Exception as e:\n",
    "            print(f\"Error with producer {producer}: {e}\")\n",
    "            skipped_producer_list.append(producer)\n",
    "            # Reestablish connection before continuing - login etc.\n",
    "            driver.quit()\n",
    "            time.sleep(0.6)\n",
    "            driver = reestablish_connection(url)\n",
    "            snum = 6\n",
    "            time.sleep(3)\n",
    "\n",
    "    driver.quit()\n",
    "\n",
    "    print(f\"Failed producers:{len(skipped_producer_list)}\")\n",
    "    print(f\"Successful wines scrapes:{len(output_list)}\")\n",
    "\n",
    "    output_list = pd.DataFrame(output_list, columns=['producer_name', 'product_name', \n",
    "                                                        'description', 'full_name', 'critic_score'])\n",
    "\n",
    "    output_list.to_csv(csv_path, index = False)\n",
    "    print(f\"NaNs in scrape{output_list.isna().sum()}\")\n",
    "    return output_list, skipped_producer_list\n",
    "\n",
    "final_prods = ['Domaine Dauvissat-Camus',\n",
    " 'Domaine Francois Lamarche',\n",
    " 'Domaine Bournet-Lapostolle']\n",
    "\n",
    "s6_list, s6_skipped_prods = loop_search_extract_producers('https://www.robertparker.com/', final_prods, csv_path='full_scrape_6.csv')"
   ]
  },
  {
   "cell_type": "code",
   "execution_count": null,
   "metadata": {},
   "outputs": [],
   "source": [
    "# Combine all full scrape csvs into one csv and export \n",
    "s1 = pd.read_csv('def_done/full_scrape_1.csv')\n",
    "s2 = pd.read_csv('def_done/full_scrape_2.csv')\n",
    "s3 = pd.read_csv('def_done/full_scrape_3.csv')\n",
    "s4 = pd.read_csv('def_done/full_scrape_4.csv')\n",
    "s5 = pd.read_csv('def_done/full_scrape_5.csv')\n",
    "s6 = pd.read_csv('def_done/full_scrape_6.csv')\n",
    "\n",
    "# combine all csvs into one\n",
    "master_list = pd.concat([s1, s2, s3, s4, s5, s6], ignore_index=True)\n",
    "master_list.drop(columns = 'Unnamed: 0', inplace=True)\n",
    "# drop duplicates rows in master_list\n",
    "master_list.drop_duplicates(inplace=True)\n",
    "master_list.reset_index(drop=True, inplace=True)\n",
    "master_list.to_csv('def_done/master_full_scrape.csv', index = False)"
   ]
  },
  {
   "cell_type": "code",
   "execution_count": 114,
   "metadata": {},
   "outputs": [
    {
     "data": {
      "text/plain": [
       "260"
      ]
     },
     "execution_count": 114,
     "metadata": {},
     "output_type": "execute_result"
    }
   ],
   "source": [
    "master_list['producer_name'].nunique()"
   ]
  },
  {
   "cell_type": "markdown",
   "metadata": {},
   "source": [
    "**Scraping project results:**\n",
    "- Sucessfully scraped scores for 33,533 wines covering 260 producers. \n",
    "- Unable to find scores for only one of the producers in our current dataset (Jera) - namelu NATHALIE VIGOT, a very rare burgundy producer (3500 bottles a year).\n",
    "- Code is ready and waiting to be used on additional producers when we expand the dataset.\n",
    "\n",
    "**Next steps:**\n",
    "- Attempt to match wines with critic scores, scraped from RP, with LWIN11s in our current dataset. This should be easily doable for all those producers within our current dataset that only have 1 LWIN7, about half of the producers.\n",
    "- For the remainder I plan to use Wine Compare match API and have contacted O"
   ]
  },
  {
   "cell_type": "markdown",
   "metadata": {},
   "source": [
    "## Spare Code"
   ]
  },
  {
   "cell_type": "code",
   "execution_count": 15,
   "metadata": {},
   "outputs": [],
   "source": [
    "# # Test code \n",
    "# test_1 = search_and_extract('Keller')\n",
    "# time.sleep(2)\n",
    "# test_2 = search_and_extract('Domaine Leroy', searchnum=7)\n",
    "# test_combined = []\n",
    "# test_combined = test_combined + test_1\n",
    "# test_combined = test_combined + test_2\n",
    "# test_combined = pd.DataFrame(test_combined, columns=['producer_name', 'product_name', \n",
    "#                                                      'description', 'full_name', 'critic_score'])"
   ]
  },
  {
   "cell_type": "code",
   "execution_count": 29,
   "metadata": {},
   "outputs": [],
   "source": [
    "# snum = 6\n",
    "# driver = reestablish_connection('https://www.robertparker.com/')\n",
    "# extracted_data = search_and_extract(driver, 'Keller', searchnum=snum)\n",
    "# driver.quit()"
   ]
  },
  {
   "cell_type": "code",
   "execution_count": null,
   "metadata": {},
   "outputs": [],
   "source": []
  },
  {
   "cell_type": "code",
   "execution_count": 27,
   "metadata": {},
   "outputs": [],
   "source": [
    "# first_time = True\n",
    "# combined_lists = []\n",
    "# failed_producers = []\n",
    "# for producer in producer_list:\n",
    "#     if first_time == True:\n",
    "#         try:\n",
    "#             prod_list = search_and_extract(producer)\n",
    "#         except:\n",
    "#             print(f\"Unable to extract for {producer}\")\n",
    "#             failed_producers += producer \n",
    "#         first_time = False\n",
    "#     else:\n",
    "#         if producer == 'Chiara Boschis (Azienda Agricola E. Pira e Figli)':\n",
    "#             producer = 'Chiara Boschis'\n",
    "#         try:\n",
    "#             prod_list = search_and_extract(producer, firsttime=False)\n",
    "#         except:\n",
    "#             print(f\"Unable to extract for {producer}\")\n",
    "#             failed_producers += producer \n",
    "\n",
    "#     combined_lists += prod_list\n",
    "#     time.sleep(1)"
   ]
  },
  {
   "cell_type": "code",
   "execution_count": 28,
   "metadata": {},
   "outputs": [],
   "source": [
    "# test = search_and_extract('Domaine Leroy')"
   ]
  },
  {
   "cell_type": "code",
   "execution_count": 29,
   "metadata": {},
   "outputs": [],
   "source": [
    "# producer_names = [\"Producer1\", \"Producer2\"]  # Add as many producer names as you want\n",
    "# all_data = []\n",
    "\n",
    "# for name in producer_names:\n",
    "#     all_data.extend(search_and_extract(name))\n",
    "\n",
    "# df = DataFrame(all_data, columns=['Producer Name', 'Product Name', 'Critic Score'])\n",
    "# df.to_csv('output.csv', index=False)\n"
   ]
  },
  {
   "cell_type": "code",
   "execution_count": 30,
   "metadata": {},
   "outputs": [],
   "source": [
    "# def search_and_extract(producer_name):\n",
    "\n",
    "#     search_input = driver.find_element(By.ID, \"autocomplete-6-input\")\n",
    "\n",
    "#     search_input.send_keys(producer_name)\n",
    "\n",
    "\n",
    "#     # Wait and click the first dropdown result\n",
    "#     WebDriverWait(driver, 10).until(\n",
    "#         EC.presence_of_element_located((By.ID, \"autocomplete-6-0-item-0\"))\n",
    "#     ).click()\n",
    "\n",
    "#     wine_data = []\n",
    "\n",
    "#     while True:\n",
    "#         WebDriverWait(driver, 10).until(\n",
    "#             EC.presence_of_all_elements_located((By.CSS_SELECTOR, \"div.wine-check\"))\n",
    "#         )\n",
    "\n",
    "#         wines = driver.find_elements(By.CSS_SELECTOR, \"div.wine-check\")\n",
    "\n",
    "#         for wine in wines:\n",
    "#             description = wine.find_element(By.CSS_SELECTOR, \"label\").get_attribute('title')\n",
    "#             full_name_element = wine.find_element(By.CSS_SELECTOR, \"a.no-style.font-weight-bold\")\n",
    "#             full_name = full_name_element.text\n",
    "#             product_name = full_name_element.get_attribute(\"name\")\n",
    "            \n",
    "#             # Extracting critic score using BeautifulSoup\n",
    "#             html_content = wine.get_attribute('innerHTML')\n",
    "#             soup = BeautifulSoup(html_content, 'html.parser')\n",
    "#             score_element = soup.find('div', class_=\"sc-bhnkmi elYHdv ratings\").find('span')\n",
    "#             critic_score = score_element.text\n",
    "#             wine_data.append({\n",
    "#                 \"producer_name\": producer_name,\n",
    "#                 \"product_name\": product_name,\n",
    "#                 \"description\": description,\n",
    "#                 \"full_name\": full_name,\n",
    "#                 \"critic_score\": critic_score\n",
    "#             })\n",
    "\n",
    "#         try:\n",
    "#             next_button = driver.find_element(By.XPATH, \"//span[contains(@class,'sc-jtXEFf') and contains(text(),'>')]\")\n",
    "#             next_button.click()\n",
    "#         except:\n",
    "#             break\n",
    "# #test = search_and_extract('Domaine Leroy')"
   ]
  }
 ],
 "metadata": {
  "kernelspec": {
   "display_name": "base",
   "language": "python",
   "name": "python3"
  },
  "language_info": {
   "codemirror_mode": {
    "name": "ipython",
    "version": 3
   },
   "file_extension": ".py",
   "mimetype": "text/x-python",
   "name": "python",
   "nbconvert_exporter": "python",
   "pygments_lexer": "ipython3",
   "version": "3.11.5"
  }
 },
 "nbformat": 4,
 "nbformat_minor": 2
}
