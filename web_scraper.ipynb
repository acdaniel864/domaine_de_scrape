{
 "cells": [
  {
   "cell_type": "code",
   "execution_count": 35,
   "metadata": {},
   "outputs": [],
   "source": [
    "from selenium import webdriver\n",
    "from selenium.webdriver.common.keys import Keys\n",
    "from selenium.webdriver.common.by import By\n",
    "from selenium.webdriver.support.ui import WebDriverWait\n",
    "from selenium.webdriver.support import expected_conditions as EC\n",
    "from pandas import DataFrame\n",
    "import time"
   ]
  },
  {
   "cell_type": "code",
   "execution_count": 36,
   "metadata": {},
   "outputs": [],
   "source": [
    "# Setup Safari driver\n",
    "driver = webdriver.Chrome()\n",
    "driver.implicitly_wait(10)  # Wait up to 10 seconds for elements to become available"
   ]
  },
  {
   "cell_type": "code",
   "execution_count": 37,
   "metadata": {},
   "outputs": [],
   "source": [
    "# Conn\n",
    "driver.get('https://www.robertparker.com/')"
   ]
  },
  {
   "cell_type": "code",
   "execution_count": 38,
   "metadata": {},
   "outputs": [],
   "source": [
    "# REVISIT --> This may need to be done only first time or every time \n",
    "try:\n",
    "    WebDriverWait(driver, 12).until(\n",
    "    EC.element_to_be_clickable((By.CSS_SELECTOR, \"#didomi-notice-agree-button\"))\n",
    ").click()\n",
    "except Exception as e:\n",
    "    print(\"No cookie pop-up found or error in clicking: \", e)"
   ]
  },
  {
   "cell_type": "code",
   "execution_count": 39,
   "metadata": {},
   "outputs": [],
   "source": [
    "# # If small screen (safari)\n",
    "# menu_button = WebDriverWait(driver, 10).until(\n",
    "#     EC.element_to_be_clickable((By.CSS_SELECTOR, \"a[href='#mnmd-offcanvas-primary'].js-mnmd-offcanvas-toggle\"))\n",
    "# )\n",
    "# menu_button.click()\n",
    "\n",
    "# WebDriverWait(driver, 10).until(\n",
    "#     EC.visibility_of_element_located((By.CLASS_NAME, \"mnmd-offcanvas\"))\n",
    "# )\n",
    "\n",
    "# # Now, click the \"LOGIN / SIGN UP\" button\n",
    "# login_button = WebDriverWait(driver, 10).until(\n",
    "#     EC.element_to_be_clickable((By.XPATH, \"//div[@class='btn btn-default']//span[contains(text(), 'LOGIN / SIGN UP')]\"))\n",
    "# )\n",
    "# login_button.click()"
   ]
  },
  {
   "cell_type": "code",
   "execution_count": 40,
   "metadata": {},
   "outputs": [],
   "source": [
    "# \"callum@winefi.co\"\n",
    "# \"Testing!12\"\n",
    "# # If large screen (chrome)\n",
    "\n",
    "wait = WebDriverWait(driver, 10)\n",
    "login_button = wait.until(EC.element_to_be_clickable((By.XPATH, \"//div[@class='btn btn-default'][span='LOGIN']\")))\n",
    "login_button.click()\n",
    "\n",
    "\n",
    "# login_button = WebDriverWait(driver, 10).until(\n",
    "#     EC.element_to_be_clickable((By.CSS_SELECTOR, \"div.btn.btn-default[span='LOGIN']\"))\n",
    "# )\n",
    "# login_button.click()\n",
    "\n",
    "email_input = driver.find_element(By.ID, \"user_login\")\n",
    "email_input.send_keys(\"callum@winefi.co\")\n",
    "\n",
    "# Password input\n",
    "password_input = driver.find_element(By.ID, \"user_pass\")\n",
    "password_input.send_keys(\"Testing!12\")\n",
    "\n",
    "submit_button = driver.find_element(By.ID, \"submit-login\")\n",
    "submit_button.click()\n"
   ]
  },
  {
   "cell_type": "code",
   "execution_count": null,
   "metadata": {},
   "outputs": [],
   "source": []
  },
  {
   "cell_type": "code",
   "execution_count": null,
   "metadata": {},
   "outputs": [],
   "source": []
  },
  {
   "cell_type": "code",
   "execution_count": null,
   "metadata": {},
   "outputs": [],
   "source": []
  },
  {
   "cell_type": "code",
   "execution_count": 41,
   "metadata": {},
   "outputs": [],
   "source": [
    "def search_and_extract(producer_name):\n",
    "    # Search bar + search for producer\n",
    "    search_input = driver.find_element(By.ID, \"autocomplete-6-input\")\n",
    "    # search_input.clear()\n",
    "    search_input.send_keys(producer_name)\n",
    "    # search_input.send_keys(Keys.RETURN)\n",
    "\n",
    "    # Wait and click the first dropdown result\n",
    "    WebDriverWait(driver, 10).until(\n",
    "        EC.presence_of_element_located((By.ID, \"autocomplete-6-0-item-0\"))\n",
    "    ).click()\n",
    "\n",
    "    wine_score = []\n",
    "\n",
    "    while True:\n",
    "        # Ensure the product list is present\n",
    "        WebDriverWait(driver, 10).until(\n",
    "            EC.presence_of_element_located((By.CSS_SELECTOR, \".product-list\"))\n",
    "        )\n",
    "        \n",
    "        # Extract product names and scores\n",
    "        products = driver.find_elements(By.CSS_SELECTOR, \"a.no-style.font-weight-bold\")\n",
    "        scores = driver.find_elements(By.CSS_SELECTOR, \"div.sc-bhnkmi.elYHdv.ratings span\")\n",
    "\n",
    "        wine_score.extend([(producer_name, product.text, score.text) for product, score in zip(products, scores)])\n",
    "\n",
    "        # Navigate to the next page if possible\n",
    "        try:\n",
    "            next_button = driver.find_element(By.XPATH, \"//span[contains(@class,'sc-jtXEFf') and contains(text(),'>')]\")\n",
    "            next_button.click()\n",
    "        except:\n",
    "            break\n",
    "\n",
    "    return wine_score"
   ]
  },
  {
   "cell_type": "code",
   "execution_count": 42,
   "metadata": {},
   "outputs": [
    {
     "ename": "TimeoutException",
     "evalue": "Message: \nStacktrace:\n0   chromedriver                        0x000000010b6dda18 chromedriver + 5216792\n1   chromedriver                        0x000000010b6d5653 chromedriver + 5183059\n2   chromedriver                        0x000000010b247527 chromedriver + 406823\n3   chromedriver                        0x000000010b292ff2 chromedriver + 716786\n4   chromedriver                        0x000000010b293181 chromedriver + 717185\n5   chromedriver                        0x000000010b2d71d4 chromedriver + 995796\n6   chromedriver                        0x000000010b2b572d chromedriver + 857901\n7   chromedriver                        0x000000010b2d46bf chromedriver + 984767\n8   chromedriver                        0x000000010b2b54a3 chromedriver + 857251\n9   chromedriver                        0x000000010b285fe3 chromedriver + 663523\n10  chromedriver                        0x000000010b28692e chromedriver + 665902\n11  chromedriver                        0x000000010b69b930 chromedriver + 4946224\n12  chromedriver                        0x000000010b6a19e4 chromedriver + 4970980\n13  chromedriver                        0x000000010b67c42e chromedriver + 4817966\n14  chromedriver                        0x000000010b6a24f9 chromedriver + 4973817\n15  chromedriver                        0x000000010b66c6b4 chromedriver + 4753076\n16  chromedriver                        0x000000010b6c4ba8 chromedriver + 5114792\n17  chromedriver                        0x000000010b6c4d67 chromedriver + 5115239\n18  chromedriver                        0x000000010b6d5273 chromedriver + 5182067\n19  libsystem_pthread.dylib             0x00007ff80eab04e1 _pthread_start + 125\n20  libsystem_pthread.dylib             0x00007ff80eaabf6b thread_start + 15\n",
     "output_type": "error",
     "traceback": [
      "\u001b[0;31m---------------------------------------------------------------------------\u001b[0m",
      "\u001b[0;31mTimeoutException\u001b[0m                          Traceback (most recent call last)",
      "Cell \u001b[0;32mIn[42], line 1\u001b[0m\n\u001b[0;32m----> 1\u001b[0m test \u001b[38;5;241m=\u001b[39m search_and_extract(\u001b[38;5;124m'\u001b[39m\u001b[38;5;124mDomaine Leroy\u001b[39m\u001b[38;5;124m'\u001b[39m)\n",
      "Cell \u001b[0;32mIn[41], line 18\u001b[0m, in \u001b[0;36msearch_and_extract\u001b[0;34m(producer_name)\u001b[0m\n\u001b[1;32m     14\u001b[0m data \u001b[38;5;241m=\u001b[39m []\n\u001b[1;32m     16\u001b[0m \u001b[38;5;28;01mwhile\u001b[39;00m \u001b[38;5;28;01mTrue\u001b[39;00m:\n\u001b[1;32m     17\u001b[0m     \u001b[38;5;66;03m# Ensure the product list is present\u001b[39;00m\n\u001b[0;32m---> 18\u001b[0m     WebDriverWait(driver, \u001b[38;5;241m10\u001b[39m)\u001b[38;5;241m.\u001b[39muntil(\n\u001b[1;32m     19\u001b[0m         EC\u001b[38;5;241m.\u001b[39mpresence_of_element_located((By\u001b[38;5;241m.\u001b[39mCSS_SELECTOR, \u001b[38;5;124m\"\u001b[39m\u001b[38;5;124m.product-list\u001b[39m\u001b[38;5;124m\"\u001b[39m))\n\u001b[1;32m     20\u001b[0m     )\n\u001b[1;32m     22\u001b[0m     \u001b[38;5;66;03m# Extract product names and scores\u001b[39;00m\n\u001b[1;32m     23\u001b[0m     products \u001b[38;5;241m=\u001b[39m driver\u001b[38;5;241m.\u001b[39mfind_elements(By\u001b[38;5;241m.\u001b[39mCSS_SELECTOR, \u001b[38;5;124m\"\u001b[39m\u001b[38;5;124ma.no-style.font-weight-bold\u001b[39m\u001b[38;5;124m\"\u001b[39m)\n",
      "File \u001b[0;32m~/anaconda3/lib/python3.11/site-packages/selenium/webdriver/support/wait.py:105\u001b[0m, in \u001b[0;36mWebDriverWait.until\u001b[0;34m(self, method, message)\u001b[0m\n\u001b[1;32m    103\u001b[0m     \u001b[38;5;28;01mif\u001b[39;00m time\u001b[38;5;241m.\u001b[39mmonotonic() \u001b[38;5;241m>\u001b[39m end_time:\n\u001b[1;32m    104\u001b[0m         \u001b[38;5;28;01mbreak\u001b[39;00m\n\u001b[0;32m--> 105\u001b[0m \u001b[38;5;28;01mraise\u001b[39;00m TimeoutException(message, screen, stacktrace)\n",
      "\u001b[0;31mTimeoutException\u001b[0m: Message: \nStacktrace:\n0   chromedriver                        0x000000010b6dda18 chromedriver + 5216792\n1   chromedriver                        0x000000010b6d5653 chromedriver + 5183059\n2   chromedriver                        0x000000010b247527 chromedriver + 406823\n3   chromedriver                        0x000000010b292ff2 chromedriver + 716786\n4   chromedriver                        0x000000010b293181 chromedriver + 717185\n5   chromedriver                        0x000000010b2d71d4 chromedriver + 995796\n6   chromedriver                        0x000000010b2b572d chromedriver + 857901\n7   chromedriver                        0x000000010b2d46bf chromedriver + 984767\n8   chromedriver                        0x000000010b2b54a3 chromedriver + 857251\n9   chromedriver                        0x000000010b285fe3 chromedriver + 663523\n10  chromedriver                        0x000000010b28692e chromedriver + 665902\n11  chromedriver                        0x000000010b69b930 chromedriver + 4946224\n12  chromedriver                        0x000000010b6a19e4 chromedriver + 4970980\n13  chromedriver                        0x000000010b67c42e chromedriver + 4817966\n14  chromedriver                        0x000000010b6a24f9 chromedriver + 4973817\n15  chromedriver                        0x000000010b66c6b4 chromedriver + 4753076\n16  chromedriver                        0x000000010b6c4ba8 chromedriver + 5114792\n17  chromedriver                        0x000000010b6c4d67 chromedriver + 5115239\n18  chromedriver                        0x000000010b6d5273 chromedriver + 5182067\n19  libsystem_pthread.dylib             0x00007ff80eab04e1 _pthread_start + 125\n20  libsystem_pthread.dylib             0x00007ff80eaabf6b thread_start + 15\n"
     ]
    }
   ],
   "source": [
    "test = search_and_extract('Domaine Leroy')"
   ]
  },
  {
   "cell_type": "code",
   "execution_count": null,
   "metadata": {},
   "outputs": [],
   "source": [
    "# producer_names = [\"Producer1\", \"Producer2\"]  # Add as many producer names as you want\n",
    "# all_data = []\n",
    "\n",
    "# for name in producer_names:\n",
    "#     all_data.extend(search_and_extract(name))\n",
    "\n",
    "# df = DataFrame(all_data, columns=['Producer Name', 'Product Name', 'Critic Score'])\n",
    "# df.to_csv('output.csv', index=False)\n"
   ]
  }
 ],
 "metadata": {
  "kernelspec": {
   "display_name": "base",
   "language": "python",
   "name": "python3"
  },
  "language_info": {
   "codemirror_mode": {
    "name": "ipython",
    "version": 3
   },
   "file_extension": ".py",
   "mimetype": "text/x-python",
   "name": "python",
   "nbconvert_exporter": "python",
   "pygments_lexer": "ipython3",
   "version": "3.11.5"
  }
 },
 "nbformat": 4,
 "nbformat_minor": 2
}
